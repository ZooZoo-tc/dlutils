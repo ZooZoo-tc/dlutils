{
  "nbformat": 4,
  "nbformat_minor": 0,
  "metadata": {
    "colab": {
      "name": "tfrecords.working.ipynb",
      "version": "0.3.2",
      "provenance": [],
      "collapsed_sections": [],
      "include_colab_link": true
    },
    "kernelspec": {
      "name": "python3",
      "display_name": "Python 3"
    }
  },
  "cells": [
    {
      "cell_type": "markdown",
      "metadata": {
        "id": "view-in-github",
        "colab_type": "text"
      },
      "source": [
        "<a href=\"https://colab.research.google.com/github/satish4github/dlutils/blob/master/tfrecords_working.ipynb\" target=\"_parent\"><img src=\"https://colab.research.google.com/assets/colab-badge.svg\" alt=\"Open In Colab\"/></a>"
      ]
    },
    {
      "cell_type": "code",
      "metadata": {
        "id": "48D0HR9N5pDc",
        "colab_type": "code",
        "colab": {}
      },
      "source": [
        "import tensorflow as tf\n",
        "import numpy\n",
        "import requests\n",
        "import os.path\n",
        "from os import path\n",
        "from shutil import copyfile\n",
        "from google.colab import drive"
      ],
      "execution_count": 0,
      "outputs": []
    },
    {
      "cell_type": "code",
      "metadata": {
        "id": "NoJArZ9XvT_E",
        "colab_type": "code",
        "colab": {}
      },
      "source": [
        "class datasets():\n",
        "    def load_cifar(self):\n",
        "      return tf.keras.datasets.cifar10.load_data()\n",
        "\n",
        "#TODO : yet to move following methods to utils\n",
        "def is_file_exists(file_path):\n",
        "      return path.exists(file_path)\n",
        "\n",
        "def mkdirs(filepath):\n",
        "      if not os.path.exists(filepath):\n",
        "              os.makedirs(filepath)\n",
        "def mount():\n",
        "    drive.mount('/content/drive')"
      ],
      "execution_count": 0,
      "outputs": []
    },
    {
      "cell_type": "code",
      "metadata": {
        "id": "U9R-7Auft4dT",
        "colab_type": "code",
        "colab": {}
      },
      "source": [
        "class TFRecord:\n",
        "  base_path = '/content/drive/My Drive/models/tfrecords/'\n",
        "  \n",
        "  def __init__(self,base_path=base_path,is_mount_required=True):\n",
        "    tf.enable_eager_execution()\n",
        "    self.base_path = base_path\n",
        "    self.is_mount_required = is_mount_required\n",
        "    self.datasets = datasets()\n",
        "    if is_mount_required :\n",
        "      mount()\n",
        "\n",
        "  def _bytes_feature(value):\n",
        "    \"\"\"Returns a bytes_list from a string / byte.\"\"\"\n",
        "    return tf.train.Feature(bytes_list=tf.train.BytesList(value=[value]))\n",
        "\n",
        "  def _float_feature(value):\n",
        "    \"\"\"Returns a float_list from a float / double.\"\"\"\n",
        "    return tf.train.Feature(float_list=tf.train.FloatList(value=[value]))\n",
        "\n",
        "  def _int64_feature(value):\n",
        "    \"\"\"Returns an int64_list from a bool / enum / int / uint.\"\"\"\n",
        "    return tf.train.Feature(int64_list=tf.train.Int64List(value=[value]))\n",
        "   \n",
        "  def convert_to_tfrecords(self,images, labels,fileName):\n",
        "      with tf.python_io.TFRecordWriter(fileName) as writer:\n",
        "        if isinstance(images[0], numpy.ndarray):\n",
        "          n = images.shape[0]\n",
        "          reshape = images.reshape(n, -1)\n",
        "          for i in range(n):\n",
        "            feature = {'image': tf.train.Feature(float_list=tf.train.FloatList(value=reshape[i])),'label': tf.train.Feature(int64_list=tf.train.Int64List(value=labels[i]))}\n",
        "            example=tf.train.Example(features=tf.train.Features(feature=feature))\n",
        "            writer.write(example.SerializeToString())\n",
        "\n",
        "  def parse_tfrecord(proto,h=32,w=32,c=3):\n",
        "        dtype=tf.float32\n",
        "        features = {'image': tf.FixedLenFeature([h * w * c], dtype),\n",
        "                    'label': tf.FixedLenFeature([], tf.int64)}\n",
        "        example = tf.io.parse_single_example(proto, features=features)\n",
        "        x, y = example[\"image\"], example['label']\n",
        "        x = tf.reshape(x, [h, w, c])\n",
        "        return x, y\n",
        "\n",
        "  def load_cifar10(self):\n",
        "      cifar10_tfrecord_path = self.base_path+'cifar10/'\n",
        "      mkdirs(cifar10_tfrecord_path)\n",
        "      train_tf_record_filepath = cifar10_tfrecord_path+'train.tfrecords'\n",
        "      test_tf_record_filepath = cifar10_tfrecord_path+'test.tfrecords'\n",
        "\n",
        "      if is_file_exists(train_tf_record_filepath) == False:      \n",
        "          (x_train, y_train), (x_test, y_test) = self.datasets.load_cifar()\n",
        "          self.convert_to_tfrecords(x_train,y_train,'train.tfrecords')\n",
        "          self.convert_to_tfrecords(x_test,y_test,'test.tfrecords')\n",
        "          copyfile('train.tfrecords', train_tf_record_filepath)\n",
        "          os.remove('train.tfrecords')\n",
        "          copyfile('test.tfrecords', test_tf_record_filepath)\n",
        "          os.remove('test.tfrecords')\n",
        "      return (train_tf_record_filepath,test_tf_record_filepath)\n"
      ],
      "execution_count": 0,
      "outputs": []
    },
    {
      "cell_type": "code",
      "metadata": {
        "id": "sRiODzLL-Wn1",
        "colab_type": "code",
        "outputId": "c6f75494-344d-40a7-ddbd-a5171345640f",
        "colab": {
          "base_uri": "https://localhost:8080/",
          "height": 50
        }
      },
      "source": [
        "(train_tf_record_filepath,test_tf_record_filepath) = TFRecord().load_cifar10()\n",
        "print(train_tf_record_filepath,'---',test_tf_record_filepath)"
      ],
      "execution_count": 0,
      "outputs": [
        {
          "output_type": "stream",
          "text": [
            "Drive already mounted at /content/drive; to attempt to forcibly remount, call drive.mount(\"/content/drive\", force_remount=True).\n",
            "/content/drive/My Drive/models/tfrecords/cifar10/train.tfrecords --- /content/drive/My Drive/models/tfrecords/cifar10/test.tfrecords\n"
          ],
          "name": "stdout"
        }
      ]
    }
  ]
}